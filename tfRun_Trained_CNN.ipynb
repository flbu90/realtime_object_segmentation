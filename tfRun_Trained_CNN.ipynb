{
 "cells": [
  {
   "cell_type": "code",
   "execution_count": null,
   "metadata": {},
   "outputs": [],
   "source": [
    "import cv2\n",
    "import tensorflow as tf\n",
    "import numpy as np\n",
    "import matplotlib.pyplot as plt\n",
    "from mpl_toolkits.mplot3d import Axes3D # Visualize the test data\n",
    "import scipy.io as io\n",
    "\n",
    "# ---------------------------------------------- Display the Image ----------------------------------------------------\n",
    "test_voxels = np.load(\"Full_Testdata/cup/30/test/cup_000000315_1.npy\")\n",
    "#test_voxels = np.pad(test_voxels,(1,1), 'constant', constant_values=(0,0)) # aus 30x30x30 wird 32x32x32\n",
    "\n",
    "#test_voxels = test_voxels.astype(int)\n",
    "\n",
    "print (\"Shape:\", test_voxels.shape)\n",
    "\n",
    "print (\"Sample\", test_voxels)\n",
    "\n",
    "fig = plt.figure()\n",
    "bx = fig.gca(projection='3d')\n",
    "bx.set_aspect('equal')\n",
    "bx.voxels(test_voxels, edgecolor='red')\n",
    "plt.show(test_voxels)"
   ]
  },
  {
   "cell_type": "code",
   "execution_count": null,
   "metadata": {},
   "outputs": [],
   "source": [
    "def conv3d(x,W):\n",
    "    return tf.nn.conv3d(x, W, strides=[1, 1, 1, 1, 1], padding='SAME')\n",
    "\n",
    "def maxpool3d(x):\n",
    "    #                          size of window         movement of window   in 3D kommt einfach eine Dimension dazu\n",
    "    return tf.nn.max_pool3d(x, ksize=[1, 2, 2, 2, 1], strides=[1, 2, 2, 2, 1], padding='SAME')\n",
    "\n",
    "def convolutional_neural_network(x):\n",
    "\n",
    "    weights = {'W_conv1': tf.Variable(tf.random_normal([3, 3, 3, 1, 32])), #5x5x5 Convolution, 1 Input und 32 Features/Outputs\n",
    "               'W_conv2': tf.Variable(tf.random_normal([3, 3, 3, 32, 64])),# 5x5x5 Convolution, 32 Inputs(von conv1) und 64 Outputs\n",
    "               'W_fc': tf.Variable(tf.random_normal([32768, 1024])),\n",
    "               'out': tf.Variable(tf.random_normal([1024, n_classes]))}\n",
    "    '''\n",
    "    Berechnung aus MNIST Pro Tut: IMG= 32*32*32 - nach maxpool3d mit ksize= 2*2*2 = 16*16*16\n",
    "                                  IMG= 16*16*16 - nach dem zweiten Durchlauf: 8*8*8\n",
    "                                  Je nachdem wie groß die Anzahl der Features ist berechnet sich der Wert : 8*8*8*64 = \n",
    "    '''\n",
    "    biases = {'b_conv1':tf.Variable(tf.random_normal([32])),\n",
    "              'b_conv2': tf.Variable(tf.random_normal([64])),\n",
    "              'b_fc': tf.Variable(tf.random_normal([1024])),\n",
    "              'out': tf.Variable(tf.random_normal([n_classes]))}\n",
    "\n",
    "    x = tf.reshape(x, shape=[-1, IMG_SIZE_X, IMG_SIZE_Y, IMG_SIZE_Z, 1])\n",
    "\n",
    "    conv1 = tf.nn.relu(conv3d(x, weights['W_conv1']) + biases['b_conv1'])\n",
    "    conv1 = maxpool3d(conv1)\n",
    "\n",
    "    conv2 = tf.nn.relu(conv3d(conv1, weights['W_conv2']) + biases['b_conv2'])\n",
    "    conv2 = maxpool3d(conv2)\n",
    "\n",
    "    fc = tf.reshape(conv2, [-1, 32768])\n",
    "    fc = tf.nn.relu(tf.matmul(fc, weights['W_fc']) + biases['b_fc'])\n",
    "    fc = tf.nn.dropout(fc, keep_rate) #mimicing dead neurons, 80% of neurons will be kept (keep_rate = 0.8) helps fighting local maxima\n",
    "\n",
    "    output = tf.matmul(fc, weights['out']) + biases['out']\n",
    "\n",
    "    return output\n",
    "\n",
    "NN_name = \"3DCNN_Model\"\n",
    "file_path = './' + NN_name + '/'\n",
    "\n",
    "sess = tf.Session()\n",
    "saver = tf.train.Saver()\n",
    "saver.restore(sess, file_path + 'model.checkpoint')\n",
    "\n",
    "session.run(y_pred, feed_dict={x: test_voxels})\n"
   ]
  },
  {
   "cell_type": "code",
   "execution_count": null,
   "metadata": {},
   "outputs": [],
   "source": [
    "\n",
    "\n"
   ]
  },
  {
   "cell_type": "code",
   "execution_count": null,
   "metadata": {},
   "outputs": [],
   "source": []
  }
 ],
 "metadata": {
  "kernelspec": {
   "display_name": "Python 3",
   "language": "python",
   "name": "python3"
  },
  "language_info": {
   "codemirror_mode": {
    "name": "ipython",
    "version": 3
   },
   "file_extension": ".py",
   "mimetype": "text/x-python",
   "name": "python",
   "nbconvert_exporter": "python",
   "pygments_lexer": "ipython3",
   "version": "3.5.6"
  }
 },
 "nbformat": 4,
 "nbformat_minor": 1
}
